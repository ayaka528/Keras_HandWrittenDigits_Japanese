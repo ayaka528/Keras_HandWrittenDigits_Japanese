{
 "cells": [
  {
   "cell_type": "markdown",
   "metadata": {},
   "source": [
    "# Define function to return an array of file names"
   ]
  },
  {
   "cell_type": "code",
   "execution_count": 1,
   "metadata": {},
   "outputs": [],
   "source": [
    "import os\n",
    "\n",
    "def return_list_of_files(rootdir, printname=False):\n",
    "    all_files = []\n",
    "\n",
    "    for subdir, dirs, files in os.walk(rootdir):\n",
    "        for file in files:\n",
    "            all_files.append(os.path.join(subdir, file))\n",
    "            if printname: \n",
    "                print(os.path.join(subdir, file))\n",
    "    return np.asarray(all_files)    "
   ]
  },
  {
   "cell_type": "markdown",
   "metadata": {},
   "source": [
    "# Define function to load data from file names into features + labels"
   ]
  },
  {
   "cell_type": "code",
   "execution_count": 2,
   "metadata": {},
   "outputs": [],
   "source": [
    "import matplotlib.pyplot as plt\n",
    "import matplotlib.image as mpimg\n",
    "import numpy as np\n",
    "\n",
    "\n",
    "def load_data(dataset_path):\n",
    "    images_list = return_list_of_files(dataset_path)\n",
    "    \n",
    "    features = np.ndarray(shape=(len(images_list), 28, 28),\n",
    "                    dtype=np.uint8)\n",
    "    labels = []\n",
    "    for i in range(len(images_list)):\n",
    "        im = mpimg.imread(images_list[i])\n",
    "        \n",
    "        features[i] = im\n",
    "        labels.append(images_list[i].split(\"/\")[1])\n",
    "    return features, np.asarray(labels)"
   ]
  },
  {
   "cell_type": "code",
   "execution_count": 3,
   "metadata": {},
   "outputs": [],
   "source": [
    "features, labels = load_data(\"TrainingDataAll\")"
   ]
  },
  {
   "cell_type": "markdown",
   "metadata": {},
   "source": [
    "# Pattern 1 - Load both train and test datasets (2 data folders)\n",
    "## Step 1: Use the loaded data as train datasets"
   ]
  },
  {
   "cell_type": "code",
   "execution_count": 4,
   "metadata": {},
   "outputs": [
    {
     "name": "stdout",
     "output_type": "stream",
     "text": [
      "\n",
      " (64076, 28, 28) \n",
      " (64076,)\n"
     ]
    }
   ],
   "source": [
    "X_train = features\n",
    "Y_train = labels\n",
    "print(\"\\n\", X_train.shape, \"\\n\", Y_train.shape)"
   ]
  },
  {
   "cell_type": "markdown",
   "metadata": {},
   "source": [
    "## Step 2: Load \"Test\" data from file names into features + labels"
   ]
  },
  {
   "cell_type": "code",
   "execution_count": 6,
   "metadata": {},
   "outputs": [],
   "source": [
    "features_test, labels_test = load_data(\"TestData\")"
   ]
  },
  {
   "cell_type": "code",
   "execution_count": 7,
   "metadata": {},
   "outputs": [
    {
     "name": "stdout",
     "output_type": "stream",
     "text": [
      "\n",
      " (102, 28, 28) \n",
      " (102,)\n"
     ]
    }
   ],
   "source": [
    "print(\"\\n\", features_test.shape, \"\\n\", labels_test.shape)\n",
    "X_test = features_test\n",
    "Y_test = labels_test"
   ]
  },
  {
   "cell_type": "code",
   "execution_count": 9,
   "metadata": {},
   "outputs": [],
   "source": [
    "#Reshape the two-dimentional array (each image information | 28×28 ) to single dimentional array\n",
    "X_train  = X_train.reshape(64076, 784)\n",
    "X_test   = X_test.reshape(102, 784)"
   ]
  },
  {
   "cell_type": "markdown",
   "metadata": {},
   "source": [
    "# Pattern 2 - Split data into train and test datasets (1 data folder)\n",
    "## Step 1: Label encoder to convert string labels into integers"
   ]
  },
  {
   "cell_type": "code",
   "execution_count": 4,
   "metadata": {},
   "outputs": [],
   "source": [
    "from sklearn import preprocessing\n",
    "\n",
    "le = preprocessing.LabelEncoder()\n",
    "le.fit(labels)\n",
    "\n",
    "labels_encoded = le.transform(labels)"
   ]
  },
  {
   "cell_type": "markdown",
   "metadata": {},
   "source": [
    "## Step 2: Split features and labels into train and test datasets"
   ]
  },
  {
   "cell_type": "code",
   "execution_count": 5,
   "metadata": {
    "scrolled": true
   },
   "outputs": [
    {
     "name": "stdout",
     "output_type": "stream",
     "text": [
      "[STATUS] splitted train and test data...\n",
      "Train data  : (51260, 28, 28)\n",
      "Test data   : (12816, 28, 28)\n",
      "Train labels: (51260,)\n",
      "Test labels : (12816,)\n"
     ]
    }
   ],
   "source": [
    "from sklearn.model_selection import train_test_split\n",
    "\n",
    "# split the training and testing data\n",
    "(X_train, X_test, Y_train, Y_test) = train_test_split(features, labels_encoded, test_size=0.2, random_state=1)\n",
    "\n",
    "print(\"[STATUS] splitted train and test data...\")\n",
    "print(\"Train data  : {}\".format(X_train.shape))\n",
    "print(\"Test data   : {}\".format(X_test.shape))\n",
    "print(\"Train labels: {}\".format(Y_train.shape))\n",
    "print(\"Test labels : {}\".format(Y_test.shape))"
   ]
  },
  {
   "cell_type": "markdown",
   "metadata": {},
   "source": [
    "# Data check"
   ]
  },
  {
   "cell_type": "code",
   "execution_count": 6,
   "metadata": {},
   "outputs": [
    {
     "name": "stdout",
     "output_type": "stream",
     "text": [
      "0\n"
     ]
    },
    {
     "data": {
      "image/png": "[encoded data removed]",
      "text/plain": [
       "<Figure size 432x288 with 1 Axes>"
      ]
     },
     "metadata": {},
     "output_type": "display_data"
    }
   ],
   "source": [
    "plt.imshow(X_train[3809].reshape(28, 28))\n",
    "print(Y_train[3809])"
   ]
  },
  {
   "cell_type": "code",
   "execution_count": 7,
   "metadata": {},
   "outputs": [
    {
     "name": "stdout",
     "output_type": "stream",
     "text": [
      "5\n"
     ]
    },
    {
     "data": {
      "image/png": "[encoded data removed]",
      "text/plain": [
       "<Figure size 432x288 with 1 Axes>"
      ]
     },
     "metadata": {},
     "output_type": "display_data"
    }
   ],
   "source": [
    "plt.imshow(X_test[100].reshape(28, 28))\n",
    "print(Y_test[100])"
   ]
  },
  {
   "cell_type": "markdown",
   "metadata": {},
   "source": [
    "# Train model"
   ]
  },
  {
   "cell_type": "code",
   "execution_count": 8,
   "metadata": {},
   "outputs": [
    {
     "name": "stderr",
     "output_type": "stream",
     "text": [
      "/anaconda/envs/py35/lib/python3.5/site-packages/h5py/__init__.py:36: FutureWarning: Conversion of the second argument of issubdtype from `float` to `np.floating` is deprecated. In future, it will be treated as `np.float64 == np.dtype(float).type`.\n",
      "  from ._conv import register_converters as _register_converters\n",
      "Using TensorFlow backend.\n"
     ]
    },
    {
     "name": "stdout",
     "output_type": "stream",
     "text": [
      "X_train shape: (51260, 28, 28, 1)\n",
      "51260 train samples\n",
      "12816 test samples\n",
      "Train on 51260 samples, validate on 12816 samples\n",
      "Epoch 1/12\n",
      "51260/51260 [==============================] - 70s 1ms/step - loss: 1.4881 - acc: 0.4900 - val_loss: 0.4780 - val_acc: 0.8584\n",
      "Epoch 2/12\n",
      "51260/51260 [==============================] - 69s 1ms/step - loss: 0.4622 - acc: 0.8569 - val_loss: 0.2142 - val_acc: 0.9423\n",
      "Epoch 3/12\n",
      "51260/51260 [==============================] - 69s 1ms/step - loss: 0.3049 - acc: 0.9066 - val_loss: 0.1654 - val_acc: 0.9522\n",
      "Epoch 4/12\n",
      "51260/51260 [==============================] - 69s 1ms/step - loss: 0.2451 - acc: 0.9261 - val_loss: 0.1234 - val_acc: 0.9658\n",
      "Epoch 5/12\n",
      "51260/51260 [==============================] - 69s 1ms/step - loss: 0.2069 - acc: 0.9369 - val_loss: 0.1016 - val_acc: 0.9709\n",
      "Epoch 6/12\n",
      "51260/51260 [==============================] - 69s 1ms/step - loss: 0.1810 - acc: 0.9454 - val_loss: 0.1358 - val_acc: 0.9578\n",
      "Epoch 7/12\n",
      "51260/51260 [==============================] - 69s 1ms/step - loss: 0.1615 - acc: 0.9516 - val_loss: 0.0807 - val_acc: 0.9782\n",
      "Epoch 8/12\n",
      "51260/51260 [==============================] - 69s 1ms/step - loss: 0.1487 - acc: 0.9549 - val_loss: 0.0765 - val_acc: 0.9799\n",
      "Epoch 9/12\n",
      "51260/51260 [==============================] - 69s 1ms/step - loss: 0.1322 - acc: 0.9603 - val_loss: 0.0750 - val_acc: 0.9801\n",
      "Epoch 10/12\n",
      "51260/51260 [==============================] - 69s 1ms/step - loss: 0.1220 - acc: 0.9643 - val_loss: 0.0706 - val_acc: 0.9809\n",
      "Epoch 11/12\n",
      "51260/51260 [==============================] - 69s 1ms/step - loss: 0.1164 - acc: 0.9654 - val_loss: 0.0694 - val_acc: 0.9798\n",
      "Epoch 12/12\n",
      "51260/51260 [==============================] - 70s 1ms/step - loss: 0.1043 - acc: 0.9691 - val_loss: 0.0717 - val_acc: 0.9801\n",
      "Test loss: 0.0717166511922698\n",
      "Test accuracy: 0.9801029962546817\n"
     ]
    }
   ],
   "source": [
    "from __future__ import print_function\n",
    "import keras\n",
    "from keras.datasets import mnist\n",
    "from keras.models import Sequential\n",
    "from keras.layers import Dense, Dropout, Flatten\n",
    "from keras.layers import Conv2D, MaxPooling2D\n",
    "from keras import backend as K\n",
    "\n",
    "batch_size = 128\n",
    "num_classes = 10\n",
    "epochs = 12\n",
    "\n",
    "# input image dimensions\n",
    "img_rows, img_cols = 28, 28\n",
    "\n",
    "if K.image_data_format() == 'channels_first':\n",
    "    X_train = X_train.reshape(X_train.shape[0], 1, img_rows, img_cols)\n",
    "    X_test = X_test.reshape(X_test.shape[0], 1, img_rows, img_cols)\n",
    "    input_shape = (1, img_rows, img_cols)\n",
    "else:\n",
    "    X_train = X_train.reshape(X_train.shape[0], img_rows, img_cols, 1)\n",
    "    X_test = X_test.reshape(X_test.shape[0], img_rows, img_cols, 1)\n",
    "    input_shape = (img_rows, img_cols, 1)\n",
    "\n",
    "X_train = X_train.astype('float32')\n",
    "X_test = X_test.astype('float32')\n",
    "X_train /= 255\n",
    "X_test /= 255\n",
    "print('X_train shape:', X_train.shape)\n",
    "print(X_train.shape[0], 'train samples')\n",
    "print(X_test.shape[0], 'test samples')\n",
    "\n",
    "# convert class vectors to binary class matrices\n",
    "Y_train = keras.utils.to_categorical(Y_train, num_classes)\n",
    "Y_test = keras.utils.to_categorical(Y_test, num_classes)\n",
    "\n",
    "model = Sequential()\n",
    "model.add(Conv2D(32, kernel_size=(3, 3),\n",
    "                 activation='relu',\n",
    "                 input_shape=input_shape))\n",
    "model.add(Conv2D(64, (3, 3), activation='relu'))\n",
    "model.add(MaxPooling2D(pool_size=(2, 2)))\n",
    "model.add(Dropout(0.25))\n",
    "model.add(Flatten())\n",
    "model.add(Dense(128, activation='relu'))\n",
    "model.add(Dropout(0.5))\n",
    "model.add(Dense(num_classes, activation='softmax'))\n",
    "\n",
    "model.compile(loss=keras.losses.categorical_crossentropy,\n",
    "              optimizer=keras.optimizers.Adadelta(),\n",
    "              metrics=['accuracy'])\n",
    "\n",
    "model.fit(X_train, Y_train,\n",
    "          batch_size=batch_size,\n",
    "          epochs=epochs,\n",
    "          verbose=1,\n",
    "          validation_data=(X_test, Y_test))\n",
    "score = model.evaluate(X_test, Y_test, verbose=0)\n",
    "print('Test loss:', score[0])\n",
    "print('Test accuracy:', score[1])"
   ]
  },
  {
   "cell_type": "code",
   "execution_count": 9,
   "metadata": {},
   "outputs": [
    {
     "name": "stdout",
     "output_type": "stream",
     "text": [
      "_________________________________________________________________\n",
      "Layer (type)                 Output Shape              Param #   \n",
      "=================================================================\n",
      "conv2d_1 (Conv2D)            (None, 26, 26, 32)        320       \n",
      "_________________________________________________________________\n",
      "conv2d_2 (Conv2D)            (None, 24, 24, 64)        18496     \n",
      "_________________________________________________________________\n",
      "max_pooling2d_1 (MaxPooling2 (None, 12, 12, 64)        0         \n",
      "_________________________________________________________________\n",
      "dropout_1 (Dropout)          (None, 12, 12, 64)        0         \n",
      "_________________________________________________________________\n",
      "flatten_1 (Flatten)          (None, 9216)              0         \n",
      "_________________________________________________________________\n",
      "dense_1 (Dense)              (None, 128)               1179776   \n",
      "_________________________________________________________________\n",
      "dropout_2 (Dropout)          (None, 128)               0         \n",
      "_________________________________________________________________\n",
      "dense_2 (Dense)              (None, 10)                1290      \n",
      "=================================================================\n",
      "Total params: 1,199,882\n",
      "Trainable params: 1,199,882\n",
      "Non-trainable params: 0\n",
      "_________________________________________________________________\n"
     ]
    }
   ],
   "source": [
    "model.summary()"
   ]
  },
  {
   "cell_type": "markdown",
   "metadata": {},
   "source": [
    "# Use model to predict on test dataset and print classification report"
   ]
  },
  {
   "cell_type": "code",
   "execution_count": 10,
   "metadata": {},
   "outputs": [
    {
     "name": "stdout",
     "output_type": "stream",
     "text": [
      "[0. 0. 0. 0. 1. 0. 0. 0. 0. 0.]\n",
      "4\n",
      "              precision    recall  f1-score   support\n",
      "\n",
      "           0       0.99      0.98      0.99      1717\n",
      "           1       1.00      0.99      0.99      1187\n",
      "           2       0.99      0.98      0.98      1237\n",
      "           3       0.95      0.99      0.97      1185\n",
      "           4       1.00      0.98      0.99      1479\n",
      "           5       0.99      0.97      0.98      1243\n",
      "           6       1.00      0.98      0.99      1280\n",
      "           7       0.99      0.97      0.98      1262\n",
      "           8       0.95      0.99      0.97      1089\n",
      "           9       0.95      0.99      0.97      1137\n",
      "\n",
      "   micro avg       0.98      0.98      0.98     12816\n",
      "   macro avg       0.98      0.98      0.98     12816\n",
      "weighted avg       0.98      0.98      0.98     12816\n",
      " samples avg       0.98      0.98      0.98     12816\n",
      "\n"
     ]
    }
   ],
   "source": [
    "from sklearn.metrics import classification_report\n",
    "\n",
    "Y_pred = model.predict_classes(X_test)\n",
    "print(Y_test[12])\n",
    "print(Y_pred[12])\n",
    "Y_pred_ed = keras.utils.to_categorical(Y_pred, 10)\n",
    "\n",
    "print(classification_report(Y_test, Y_pred_ed))"
   ]
  },
  {
   "cell_type": "markdown",
   "metadata": {},
   "source": [
    "# Save model"
   ]
  },
  {
   "cell_type": "code",
   "execution_count": 11,
   "metadata": {},
   "outputs": [],
   "source": [
    "model.save('Keras_Digits_201901181228.h5')"
   ]
  }
 ],
 "metadata": {
  "kernelspec": {
   "display_name": "Python 3.5",
   "language": "python",
   "name": "python3"
  },
  "language_info": {
   "codemirror_mode": {
    "name": "ipython",
    "version": 3
   },
   "file_extension": ".py",
   "mimetype": "text/x-python",
   "name": "python",
   "nbconvert_exporter": "python",
   "pygments_lexer": "ipython3",
   "version": "3.5.5"
  }
 },
 "nbformat": 4,
 "nbformat_minor": 2
}
